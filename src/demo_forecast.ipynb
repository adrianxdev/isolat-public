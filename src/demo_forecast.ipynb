{
 "cells": [
  {
   "cell_type": "code",
   "execution_count": null,
   "metadata": {},
   "outputs": [],
   "source": [
    "import numpy as np\n",
    "import pandas as pd\n",
    "import seaborn as sns\n",
    "import matplotlib.pyplot as plt\n",
    "import datetime as dt\n",
    "import sklearn as skl\n",
    "import scipy.stats as stats\n",
    "import sys\n",
    "local_rel_path = '../data/'\n",
    "sys.path.insert(0, local_rel_path)\n",
    "import nytimes\n",
    "import importlib\n",
    "import models\n",
    "import features\n",
    "importlib.reload(models)\n",
    "importlib.reload(features)"
   ]
  },
  {
   "cell_type": "code",
   "execution_count": null,
   "metadata": {},
   "outputs": [],
   "source": [
    "# get the data in\n",
    "\n",
    "state_df, county_df = nytimes.get_nyt_data()\n",
    "\n",
    "county_cases_ts = nytimes.convert_county_df_to_ts(county_df, quantity='cases')\n",
    "county_deaths_ts = nytimes.convert_county_df_to_ts(county_df, quantity='deaths')\n",
    "county_fips = nytimes.convert_county_df_to_ts(county_df, quantity='fips')\n",
    "\n",
    "state_cases_ts = nytimes.convert_state_df_to_ts(state_df, quantity='cases')\n",
    "state_deaths_ts = nytimes.convert_state_df_to_ts(state_df, quantity='deaths')\n",
    "\n",
    "def preprocess_df(df):\n",
    "    \n",
    "    # drop county, state columns if exist\n",
    "    df = df.drop(columns=['county', 'state'], errors='ignore')\n",
    "    # fill nas with zeros\n",
    "    df = df.fillna(0)\n",
    "    # replace column indices with datetime objects\n",
    "    df = df.rename(\n",
    "        columns=lambda str_date: dt.datetime.strptime(str_date, '%m/%d/%y'))\n",
    "    \n",
    "    return df\n",
    "\n",
    "# do standard preprocessing below:\n",
    "state_cases_ts = preprocess_df(state_cases_ts)\n",
    "state_deaths_ts = preprocess_df(state_deaths_ts)\n",
    "\n",
    "county_cases_ts = preprocess_df(county_cases_ts)\n",
    "county_deaths_ts = preprocess_df(county_deaths_ts)\n"
   ]
  },
  {
   "cell_type": "code",
   "execution_count": null,
   "metadata": {},
   "outputs": [],
   "source": [
    "# demonstrate base forecast for Middlesex, Massachusetts\n",
    "\n",
    "demo_county = ('California', 'Kern')\n",
    "\n",
    "demo_ts = county_cases_ts.loc[demo_county , :].copy()\n",
    "demo_ts_daily = demo_ts.diff()\n",
    "# since we are demonstrating a base, not rolling forecast, shorten the \n",
    "# time series to the relevant portion, i.e. where case count is large\n",
    "demo_ts_daily_short = demo_ts_daily.loc[demo_ts > 10]\n",
    "# now implement data checks, i.e. make sure daily data is positive\n",
    "demo_ts_daily_short = demo_ts_daily_short*(demo_ts_daily_short>=0)\n",
    "\n",
    "# now compute the forecasts\n",
    "target_date_range = pd.date_range(demo_ts_daily_short.index[0], \n",
    "                                  demo_ts_daily_short.index[-1]+dt.timedelta(days=21))\n",
    "out = models.base_forecast_linear(demo_ts_daily_short, target_date_range=target_date_range) #point\n",
    "out80 = models.base_forecast_linear(demo_ts_daily_short, quantile=0.8, target_date_range=target_date_range) # upper quantile\n",
    "out20 = models.base_forecast_linear(demo_ts_daily_short, quantile=0.2, target_date_range=target_date_range) # lower quantile"
   ]
  },
  {
   "cell_type": "code",
   "execution_count": null,
   "metadata": {},
   "outputs": [],
   "source": [
    "# plot stuff nicely\n",
    "def my_format_dates(ax):\n",
    "    for label in ax.get_xticklabels():\n",
    "            label.set_rotation(45)\n",
    "            label.set_horizontalalignment('right')\n",
    "            \n",
    "fig, ax  = plt.subplots()\n",
    "ax.plot(demo_ts_daily, color='xkcd:blue', marker='.', linestyle='')\n",
    "ax.plot(out, color='xkcd:red')\n",
    "ax.grid()\n",
    "ax.fill_between(out.index, \n",
    "               out20, out80, \n",
    "               where=out20<out80,\n",
    "               color='xkcd:red',\n",
    "               alpha=0.3)\n",
    "\n",
    "#ax.plot(out90, ':', color='xkcd:red', alpha=0.7)\n",
    "#ax.plot(out10, ':', color='xkcd:red', alpha=0.7)\n",
    "ax.set_yscale('log')\n",
    "ax.set_ylim( (1e-1, 4*demo_ts_daily_short.max()))\n",
    "my_format_dates(ax)"
   ]
  },
  {
   "cell_type": "code",
   "execution_count": null,
   "metadata": {},
   "outputs": [],
   "source": [
    "importlib.reload(models)\n",
    "importlib.reload(features)"
   ]
  },
  {
   "cell_type": "code",
   "execution_count": null,
   "metadata": {},
   "outputs": [],
   "source": [
    "county_cases_ts.loc['California']"
   ]
  },
  {
   "cell_type": "code",
   "execution_count": null,
   "metadata": {},
   "outputs": [],
   "source": [
    "out = scaled_arr\n",
    "out[0, 0] = 2\n",
    "print(  out[0, 0], scaled_arr[0, 0])"
   ]
  },
  {
   "cell_type": "code",
   "execution_count": null,
   "metadata": {},
   "outputs": [],
   "source": [
    "import scipy.stats as spstats\n",
    "spstats.norm.ppf(0.2)"
   ]
  },
  {
   "cell_type": "code",
   "execution_count": null,
   "metadata": {},
   "outputs": [],
   "source": []
  }
 ],
 "metadata": {
  "language_info": {
   "name": "python3",
   "pygments_lexer": "ipython3"
  }
 },
 "nbformat": 4,
 "nbformat_minor": 4
}
