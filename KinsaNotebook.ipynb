{
 "cells": [
  {
   "cell_type": "code",
   "execution_count": 4,
   "metadata": {},
   "outputs": [
    {
     "ename": "ModuleNotFoundError",
     "evalue": "No module named 'states_dict'",
     "output_type": "error",
     "traceback": [
      "\u001b[1;31m---------------------------------------------------------------------------\u001b[0m",
      "\u001b[1;31mModuleNotFoundError\u001b[0m                       Traceback (most recent call last)",
      "\u001b[1;32m<ipython-input-4-741226efd0ce>\u001b[0m in \u001b[0;36m<module>\u001b[1;34m\u001b[0m\n\u001b[0;32m      6\u001b[0m \u001b[1;33m\u001b[0m\u001b[0m\n\u001b[0;32m      7\u001b[0m \u001b[1;33m\u001b[0m\u001b[0m\n\u001b[1;32m----> 8\u001b[1;33m \u001b[1;32mimport\u001b[0m \u001b[0mdata\u001b[0m\u001b[1;33m.\u001b[0m\u001b[0mkinsa\u001b[0m\u001b[1;33m\u001b[0m\u001b[1;33m\u001b[0m\u001b[0m\n\u001b[0m\u001b[0;32m      9\u001b[0m \u001b[1;32mimport\u001b[0m \u001b[0mpandas\u001b[0m \u001b[1;32mas\u001b[0m \u001b[0mpd\u001b[0m\u001b[1;33m\u001b[0m\u001b[1;33m\u001b[0m\u001b[0m\n\u001b[0;32m     10\u001b[0m \u001b[1;33m\u001b[0m\u001b[0m\n",
      "\u001b[1;32m~\\Downloads\\isolat-dash-master\\isolat-public\\data\\kinsa.py\u001b[0m in \u001b[0;36m<module>\u001b[1;34m\u001b[0m\n\u001b[0;32m      3\u001b[0m \u001b[1;32mimport\u001b[0m \u001b[0mtime\u001b[0m\u001b[1;33m\u001b[0m\u001b[1;33m\u001b[0m\u001b[0m\n\u001b[0;32m      4\u001b[0m \u001b[1;32mimport\u001b[0m \u001b[0msys\u001b[0m\u001b[1;33m\u001b[0m\u001b[1;33m\u001b[0m\u001b[0m\n\u001b[1;32m----> 5\u001b[1;33m \u001b[1;32mfrom\u001b[0m \u001b[0mstates_dict\u001b[0m \u001b[1;32mimport\u001b[0m \u001b[0mstates_dict\u001b[0m\u001b[1;33m\u001b[0m\u001b[1;33m\u001b[0m\u001b[0m\n\u001b[0m\u001b[0;32m      6\u001b[0m \u001b[1;33m\u001b[0m\u001b[0m\n\u001b[0;32m      7\u001b[0m \u001b[1;32mif\u001b[0m \u001b[0msys\u001b[0m\u001b[1;33m.\u001b[0m\u001b[0mversion_info\u001b[0m\u001b[1;33m[\u001b[0m\u001b[1;36m0\u001b[0m\u001b[1;33m]\u001b[0m \u001b[1;33m==\u001b[0m \u001b[1;36m3\u001b[0m\u001b[1;33m:\u001b[0m\u001b[1;33m\u001b[0m\u001b[1;33m\u001b[0m\u001b[0m\n",
      "\u001b[1;31mModuleNotFoundError\u001b[0m: No module named 'states_dict'"
     ]
    }
   ],
   "source": [
    "### This notebook pulls the kinsa data using the isolat getters. Then, transforms it to a format and strucuture to \n",
    "### join it with other model outputs.\n",
    "### the dateformat matched the reichlab data input format\n",
    "### the county strings are formatted to remove the word \"county\" from the value\n",
    "\n",
    "\n",
    "\n",
    "import data.kinsa\n",
    "import pandas as pd\n",
    "\n",
    "\n",
    "df3 = kinsa.get_kinsa_data()\n",
    "\n",
    "df3.head(15)\n"
   ]
  },
  {
   "cell_type": "code",
   "execution_count": 45,
   "metadata": {},
   "outputs": [
    {
     "ename": "TypeError",
     "evalue": "'module' object is not subscriptable",
     "output_type": "error",
     "traceback": [
      "\u001b[1;31m---------------------------------------------------------------------------\u001b[0m",
      "\u001b[1;31mTypeError\u001b[0m                                 Traceback (most recent call last)",
      "\u001b[1;32m<ipython-input-45-8d538bf0523a>\u001b[0m in \u001b[0;36m<module>\u001b[1;34m\u001b[0m\n\u001b[1;32m----> 1\u001b[1;33m \u001b[0mkinsa\u001b[0m\u001b[1;33m[\u001b[0m\u001b[1;34m'region_name'\u001b[0m\u001b[1;33m]\u001b[0m \u001b[1;33m=\u001b[0m \u001b[0mkinsa\u001b[0m\u001b[1;33m[\u001b[0m\u001b[1;34m'region_name'\u001b[0m\u001b[1;33m]\u001b[0m\u001b[1;33m.\u001b[0m\u001b[0mmap\u001b[0m\u001b[1;33m(\u001b[0m\u001b[1;32mlambda\u001b[0m \u001b[0mx\u001b[0m\u001b[1;33m:\u001b[0m \u001b[0mx\u001b[0m\u001b[1;33m.\u001b[0m\u001b[0mrstrip\u001b[0m\u001b[1;33m(\u001b[0m\u001b[1;34m'County'\u001b[0m\u001b[1;33m)\u001b[0m\u001b[1;33m)\u001b[0m\u001b[1;33m\u001b[0m\u001b[1;33m\u001b[0m\u001b[0m\n\u001b[0m\u001b[0;32m      2\u001b[0m \u001b[1;33m\u001b[0m\u001b[0m\n\u001b[0;32m      3\u001b[0m \u001b[0mkinsa\u001b[0m\u001b[1;33m.\u001b[0m\u001b[0mhead\u001b[0m\u001b[1;33m(\u001b[0m\u001b[1;36m15\u001b[0m\u001b[1;33m)\u001b[0m\u001b[1;33m\u001b[0m\u001b[1;33m\u001b[0m\u001b[0m\n\u001b[0;32m      4\u001b[0m \u001b[1;33m\u001b[0m\u001b[0m\n\u001b[0;32m      5\u001b[0m \u001b[1;33m\u001b[0m\u001b[0m\n",
      "\u001b[1;31mTypeError\u001b[0m: 'module' object is not subscriptable"
     ]
    }
   ],
   "source": [
    "## update date format\n",
    "df3['date'] = pd.to_datetime(df3['date'], format='%m/%d/%y')\n",
    "\n",
    "##strip out 'county'\n",
    "df3['region_name'] = df3['region_name'].map(lambda x: x.rstrip('County'))\n",
    "\n",
    "df3.head(15)\n",
    "\n",
    "## sort by date\n",
    "df3 = df3.sort_values(by=['date'],ascending=False)\n",
    "df3.tail(15)\n"
   ]
  },
  {
   "cell_type": "code",
   "execution_count": 41,
   "metadata": {},
   "outputs": [
    {
     "data": {
      "text/html": [
       "<div>\n",
       "<style scoped>\n",
       "    .dataframe tbody tr th:only-of-type {\n",
       "        vertical-align: middle;\n",
       "    }\n",
       "\n",
       "    .dataframe tbody tr th {\n",
       "        vertical-align: top;\n",
       "    }\n",
       "\n",
       "    .dataframe thead th {\n",
       "        text-align: right;\n",
       "    }\n",
       "</style>\n",
       "<table border=\"1\" class=\"dataframe\">\n",
       "  <thead>\n",
       "    <tr style=\"text-align: right;\">\n",
       "      <th></th>\n",
       "      <th>region_name</th>\n",
       "      <th>state</th>\n",
       "      <th>observed_ili</th>\n",
       "      <th>date</th>\n",
       "      <th>forecast_expected</th>\n",
       "    </tr>\n",
       "  </thead>\n",
       "  <tbody>\n",
       "    <tr>\n",
       "      <td>35</td>\n",
       "      <td>Garfield</td>\n",
       "      <td>Colorado</td>\n",
       "      <td>5.045691</td>\n",
       "      <td>2020-02-16</td>\n",
       "      <td>NaN</td>\n",
       "    </tr>\n",
       "    <tr>\n",
       "      <td>52</td>\n",
       "      <td>Hinsdale</td>\n",
       "      <td>Colorado</td>\n",
       "      <td>4.888474</td>\n",
       "      <td>2020-02-16</td>\n",
       "      <td>NaN</td>\n",
       "    </tr>\n",
       "    <tr>\n",
       "      <td>53</td>\n",
       "      <td>Gunnison</td>\n",
       "      <td>Colorado</td>\n",
       "      <td>4.911652</td>\n",
       "      <td>2020-02-16</td>\n",
       "      <td>NaN</td>\n",
       "    </tr>\n",
       "    <tr>\n",
       "      <td>22</td>\n",
       "      <td>Rio Arriba</td>\n",
       "      <td>New Mexico</td>\n",
       "      <td>4.662073</td>\n",
       "      <td>2020-02-16</td>\n",
       "      <td>NaN</td>\n",
       "    </tr>\n",
       "    <tr>\n",
       "      <td>62</td>\n",
       "      <td>Kit Carson</td>\n",
       "      <td>Colorado</td>\n",
       "      <td>4.888086</td>\n",
       "      <td>2020-02-16</td>\n",
       "      <td>NaN</td>\n",
       "    </tr>\n",
       "    <tr>\n",
       "      <td>29</td>\n",
       "      <td>Socorro</td>\n",
       "      <td>New Mexico</td>\n",
       "      <td>5.182602</td>\n",
       "      <td>2020-02-16</td>\n",
       "      <td>NaN</td>\n",
       "    </tr>\n",
       "    <tr>\n",
       "      <td>28</td>\n",
       "      <td>Sierra</td>\n",
       "      <td>New Mexico</td>\n",
       "      <td>4.749595</td>\n",
       "      <td>2020-02-16</td>\n",
       "      <td>NaN</td>\n",
       "    </tr>\n",
       "    <tr>\n",
       "      <td>27</td>\n",
       "      <td>Santa Fe</td>\n",
       "      <td>New Mexico</td>\n",
       "      <td>4.837456</td>\n",
       "      <td>2020-02-16</td>\n",
       "      <td>NaN</td>\n",
       "    </tr>\n",
       "    <tr>\n",
       "      <td>26</td>\n",
       "      <td>San Miguel</td>\n",
       "      <td>New Mexico</td>\n",
       "      <td>5.142702</td>\n",
       "      <td>2020-02-16</td>\n",
       "      <td>NaN</td>\n",
       "    </tr>\n",
       "    <tr>\n",
       "      <td>25</td>\n",
       "      <td>San Juan</td>\n",
       "      <td>New Mexico</td>\n",
       "      <td>5.095841</td>\n",
       "      <td>2020-02-16</td>\n",
       "      <td>NaN</td>\n",
       "    </tr>\n",
       "    <tr>\n",
       "      <td>24</td>\n",
       "      <td>Sandoval</td>\n",
       "      <td>New Mexico</td>\n",
       "      <td>5.238033</td>\n",
       "      <td>2020-02-16</td>\n",
       "      <td>NaN</td>\n",
       "    </tr>\n",
       "    <tr>\n",
       "      <td>23</td>\n",
       "      <td>Roosevelt</td>\n",
       "      <td>New Mexico</td>\n",
       "      <td>5.547965</td>\n",
       "      <td>2020-02-16</td>\n",
       "      <td>NaN</td>\n",
       "    </tr>\n",
       "    <tr>\n",
       "      <td>63</td>\n",
       "      <td>Kiowa</td>\n",
       "      <td>Colorado</td>\n",
       "      <td>4.623863</td>\n",
       "      <td>2020-02-16</td>\n",
       "      <td>NaN</td>\n",
       "    </tr>\n",
       "    <tr>\n",
       "      <td>55</td>\n",
       "      <td>Gilpin</td>\n",
       "      <td>Colorado</td>\n",
       "      <td>4.558426</td>\n",
       "      <td>2020-02-16</td>\n",
       "      <td>NaN</td>\n",
       "    </tr>\n",
       "    <tr>\n",
       "      <td>0</td>\n",
       "      <td>Autauga</td>\n",
       "      <td>Alabama</td>\n",
       "      <td>5.288498</td>\n",
       "      <td>2020-02-16</td>\n",
       "      <td>NaN</td>\n",
       "    </tr>\n",
       "  </tbody>\n",
       "</table>\n",
       "</div>"
      ],
      "text/plain": [
       "    region_name       state  observed_ili       date  forecast_expected\n",
       "35    Garfield     Colorado      5.045691 2020-02-16                NaN\n",
       "52    Hinsdale     Colorado      4.888474 2020-02-16                NaN\n",
       "53    Gunnison     Colorado      4.911652 2020-02-16                NaN\n",
       "22  Rio Arriba   New Mexico      4.662073 2020-02-16                NaN\n",
       "62  Kit Carson     Colorado      4.888086 2020-02-16                NaN\n",
       "29     Socorro   New Mexico      5.182602 2020-02-16                NaN\n",
       "28      Sierra   New Mexico      4.749595 2020-02-16                NaN\n",
       "27    Santa Fe   New Mexico      4.837456 2020-02-16                NaN\n",
       "26  San Miguel   New Mexico      5.142702 2020-02-16                NaN\n",
       "25    San Juan   New Mexico      5.095841 2020-02-16                NaN\n",
       "24    Sandoval   New Mexico      5.238033 2020-02-16                NaN\n",
       "23   Roosevelt   New Mexico      5.547965 2020-02-16                NaN\n",
       "63       Kiowa     Colorado      4.623863 2020-02-16                NaN\n",
       "55      Gilpin     Colorado      4.558426 2020-02-16                NaN\n",
       "0      Autauga      Alabama      5.288498 2020-02-16                NaN"
      ]
     },
     "execution_count": 41,
     "metadata": {},
     "output_type": "execute_result"
    }
   ],
   "source": [
    "## select the columns to extract\n",
    "kinsa_final = df3[['region_name', 'state', 'observed_ili','date','forecast_expected']]\n",
    "\n",
    "kinsa_final.tail(15)\n",
    "\n"
   ]
  },
  {
   "cell_type": "code",
   "execution_count": 42,
   "metadata": {},
   "outputs": [
    {
     "name": "stdout",
     "output_type": "stream",
     "text": [
      "Total rows:307791\n"
     ]
    }
   ],
   "source": [
    "print('Total rows:' + str(len(df3.index)))\n"
   ]
  },
  {
   "cell_type": "code",
   "execution_count": 44,
   "metadata": {},
   "outputs": [],
   "source": [
    "## export to csv\n",
    "kinsa_final.to_csv('kinsa_export.csv')"
   ]
  }
 ],
 "metadata": {
  "kernelspec": {
   "display_name": "Python 3",
   "language": "python",
   "name": "python3"
  },
  "language_info": {
   "codemirror_mode": {
    "name": "ipython",
    "version": 3
   },
   "file_extension": ".py",
   "mimetype": "text/x-python",
   "name": "python",
   "nbconvert_exporter": "python",
   "pygments_lexer": "ipython3",
   "version": "3.7.4"
  }
 },
 "nbformat": 4,
 "nbformat_minor": 2
}
